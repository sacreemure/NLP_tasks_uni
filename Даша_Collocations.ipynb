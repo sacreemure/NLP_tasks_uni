{
  "cells": [
    {
      "cell_type": "code",
      "execution_count": null,
      "metadata": {
        "id": "vEQaqq7jkz0P"
      },
      "outputs": [],
      "source": [
        "doc = \"/content/textttt.txt\""
      ]
    },
    {
      "cell_type": "code",
      "execution_count": null,
      "metadata": {
        "id": "OpqB6E0VDFWX"
      },
      "outputs": [],
      "source": [
        "import os"
      ]
    },
    {
      "cell_type": "code",
      "execution_count": null,
      "metadata": {
        "id": "sYrofoOPkz0U"
      },
      "outputs": [],
      "source": [
        "import re\n",
        "import math\n",
        "import pandas as pd\n",
        "import nltk"
      ]
    },
    {
      "cell_type": "code",
      "execution_count": null,
      "metadata": {
        "id": "STZMqLa7lP7F"
      },
      "outputs": [],
      "source": [
        "!pip install spacy"
      ]
    },
    {
      "cell_type": "code",
      "execution_count": null,
      "metadata": {
        "id": "LopYJluqlTG_"
      },
      "outputs": [],
      "source": [
        "!python -m spacy download ru_core_news_sm"
      ]
    },
    {
      "cell_type": "code",
      "execution_count": null,
      "metadata": {
        "id": "3QjatZ_ckz0U"
      },
      "outputs": [],
      "source": [
        "import spacy\n",
        "nlp = spacy.load('ru_core_news_sm')"
      ]
    },
    {
      "cell_type": "code",
      "execution_count": null,
      "metadata": {
        "id": "XWR0AYFPkz0V"
      },
      "outputs": [],
      "source": [
        "from tqdm import notebook"
      ]
    },
    {
      "cell_type": "code",
      "execution_count": null,
      "metadata": {
        "id": "h9W78BhyDLq_"
      },
      "outputs": [],
      "source": [
        "with open(doc, 'r', encoding='utf-8') as file:\n",
        "    f = file.read()"
      ]
    },
    {
      "cell_type": "code",
      "execution_count": null,
      "metadata": {
        "id": "oSCbyl5iDUvy"
      },
      "outputs": [],
      "source": [
        "text_words_2 = re.findall(r'[а-яёА-ЯЁ]+', f)\n",
        "\n",
        "text_words_1 = []\n",
        "for i in text_words_2:\n",
        "    k = i.lower()\n",
        "    text_words_1.append(k)"
      ]
    },
    {
      "cell_type": "code",
      "execution_count": null,
      "metadata": {
        "colab": {
          "base_uri": "https://localhost:8080/"
        },
        "id": "ITNN5ifwDYaN",
        "outputId": "2b00fba3-999b-4f49-ea32-92911107bf09"
      },
      "outputs": [
        {
          "output_type": "execute_result",
          "data": {
            "text/plain": [
              "1074"
            ]
          },
          "metadata": {},
          "execution_count": 10
        }
      ],
      "source": [
        "with open('/content/stopwords.txt', 'r', encoding='utf8') as swl:\n",
        "    swlist = []  # список стоп-слов из файла\n",
        "    for i in swl:\n",
        "        i = i.replace('\\n','')\n",
        "        swlist.append(i)\n",
        "        # print(swlist)\n",
        "\n",
        "len(swlist)"
      ]
    },
    {
      "cell_type": "code",
      "execution_count": null,
      "metadata": {
        "id": "08UdCxurDcX9"
      },
      "outputs": [],
      "source": [
        "text_words = []\n",
        "for i in text_words_1:\n",
        "    #i = morph.parse(i)[0].normal_form\n",
        "    if i not in swlist:\n",
        "        text_words.append(i)"
      ]
    },
    {
      "cell_type": "code",
      "execution_count": null,
      "metadata": {
        "colab": {
          "base_uri": "https://localhost:8080/"
        },
        "id": "SqljQhMJkz0X",
        "outputId": "6a85b335-9fe8-4714-9ea0-7fb2b186f977"
      },
      "outputs": [
        {
          "output_type": "execute_result",
          "data": {
            "text/plain": [
              "149427"
            ]
          },
          "metadata": {},
          "execution_count": 12
        }
      ],
      "source": [
        "len(text_words)"
      ]
    },
    {
      "cell_type": "code",
      "execution_count": null,
      "metadata": {
        "colab": {
          "base_uri": "https://localhost:8080/",
          "height": 49,
          "referenced_widgets": [
            "715e8ed8f39046f686fa9c53d8fba53a",
            "6d261c3e14ea4a1a96f02eda98873d73",
            "04cadd574d974104af7f56c5c14f12c4",
            "bd861caa6c5f4553a7b29dd6fc789f1c",
            "41051dc4222f43b5bb6b583025f021e9",
            "14d4d5b036b848f0bbab7c764f8e51f1",
            "a6b87d064b2148e1a2cac8b5f99e1cdf",
            "59b2c821f784444f8a70d774316e4085",
            "bad4c3e2d93e4a83a3466e6e17f59855",
            "57ad10ccf160413b97584b6f3e9c3b1f",
            "de1d334136104251895361dcfa84d898"
          ]
        },
        "id": "e6qV17q_kz0X",
        "outputId": "8a379b46-6ff0-433e-d3c8-8ecf76b169b7"
      },
      "outputs": [
        {
          "data": {
            "application/vnd.jupyter.widget-view+json": {
              "model_id": "715e8ed8f39046f686fa9c53d8fba53a",
              "version_major": 2,
              "version_minor": 0
            },
            "text/plain": [
              "  0%|          | 0/149427 [00:00<?, ?it/s]"
            ]
          },
          "metadata": {},
          "output_type": "display_data"
        }
      ],
      "source": [
        "annotated_words = []\n",
        "for word in notebook.tqdm(text_words):\n",
        "    tk = nlp(word)[0]\n",
        "    annotated_words.append(f'{tk.lemma_}_{tk.pos_}')"
      ]
    },
    {
      "cell_type": "code",
      "execution_count": null,
      "metadata": {
        "id": "iBamHkI6kz0Y",
        "colab": {
          "base_uri": "https://localhost:8080/"
        },
        "outputId": "3c49321c-125a-4e96-c480-96fc48315f06"
      },
      "outputs": [
        {
          "output_type": "execute_result",
          "data": {
            "text/plain": [
              "['скачали_VERB',\n",
              " 'книга_NOUN',\n",
              " 'бесплатный_ADJ',\n",
              " 'электронный_ADJ',\n",
              " 'библиотека_NOUN',\n",
              " 'книга_NOUN',\n",
              " 'автор_NOUN',\n",
              " 'этот_DET',\n",
              " 'книга_NOUN',\n",
              " 'других_ADJ']"
            ]
          },
          "metadata": {},
          "execution_count": 14
        }
      ],
      "source": [
        "annotated_words[:10]"
      ]
    },
    {
      "cell_type": "code",
      "execution_count": null,
      "metadata": {
        "id": "gWt87yu3kz0Y"
      },
      "outputs": [],
      "source": [
        "bigrams = nltk.collocations.BigramAssocMeasures()\n",
        "\n",
        "bigramFinder = nltk.collocations.BigramCollocationFinder.from_words(annotated_words)\n",
        "\n",
        "# bigrams\n",
        "bigram_freq = bigramFinder.ngram_fd.items()\n",
        "bigramFreqTable = pd.DataFrame(list(bigram_freq), columns=['bigram','freq']).sort_values(by='freq', ascending=False)\n",
        "bigramFreqTable.to_csv('Bigrams.csv',encoding='utf8', sep=';', index=False) #экспортируем в файл"
      ]
    },
    {
      "cell_type": "code",
      "execution_count": null,
      "metadata": {
        "id": "0HqmuCYjkz0Y",
        "scrolled": true,
        "colab": {
          "base_uri": "https://localhost:8080/",
          "height": 206
        },
        "outputId": "cc2b1c87-7e55-4aa8-a76b-7f46e4d0e24b"
      },
      "outputs": [
        {
          "output_type": "execute_result",
          "data": {
            "text/plain": [
              "                                 bigram  freq\n",
              "1372          (год_NOUN, художник_NOUN)   157\n",
              "4964           (этот_DET, картина_NOUN)   105\n",
              "1263       (молодой_ADJ, художник_NOUN)    74\n",
              "875             (должный_ADJ, быть_AUX)    59\n",
              "30189  (академия_NOUN, художество_NOUN)    58"
            ],
            "text/html": [
              "\n",
              "  <div id=\"df-e91c5401-9c7b-4092-89c6-7692656b7c71\">\n",
              "    <div class=\"colab-df-container\">\n",
              "      <div>\n",
              "<style scoped>\n",
              "    .dataframe tbody tr th:only-of-type {\n",
              "        vertical-align: middle;\n",
              "    }\n",
              "\n",
              "    .dataframe tbody tr th {\n",
              "        vertical-align: top;\n",
              "    }\n",
              "\n",
              "    .dataframe thead th {\n",
              "        text-align: right;\n",
              "    }\n",
              "</style>\n",
              "<table border=\"1\" class=\"dataframe\">\n",
              "  <thead>\n",
              "    <tr style=\"text-align: right;\">\n",
              "      <th></th>\n",
              "      <th>bigram</th>\n",
              "      <th>freq</th>\n",
              "    </tr>\n",
              "  </thead>\n",
              "  <tbody>\n",
              "    <tr>\n",
              "      <th>1372</th>\n",
              "      <td>(год_NOUN, художник_NOUN)</td>\n",
              "      <td>157</td>\n",
              "    </tr>\n",
              "    <tr>\n",
              "      <th>4964</th>\n",
              "      <td>(этот_DET, картина_NOUN)</td>\n",
              "      <td>105</td>\n",
              "    </tr>\n",
              "    <tr>\n",
              "      <th>1263</th>\n",
              "      <td>(молодой_ADJ, художник_NOUN)</td>\n",
              "      <td>74</td>\n",
              "    </tr>\n",
              "    <tr>\n",
              "      <th>875</th>\n",
              "      <td>(должный_ADJ, быть_AUX)</td>\n",
              "      <td>59</td>\n",
              "    </tr>\n",
              "    <tr>\n",
              "      <th>30189</th>\n",
              "      <td>(академия_NOUN, художество_NOUN)</td>\n",
              "      <td>58</td>\n",
              "    </tr>\n",
              "  </tbody>\n",
              "</table>\n",
              "</div>\n",
              "      <button class=\"colab-df-convert\" onclick=\"convertToInteractive('df-e91c5401-9c7b-4092-89c6-7692656b7c71')\"\n",
              "              title=\"Convert this dataframe to an interactive table.\"\n",
              "              style=\"display:none;\">\n",
              "        \n",
              "  <svg xmlns=\"http://www.w3.org/2000/svg\" height=\"24px\"viewBox=\"0 0 24 24\"\n",
              "       width=\"24px\">\n",
              "    <path d=\"M0 0h24v24H0V0z\" fill=\"none\"/>\n",
              "    <path d=\"M18.56 5.44l.94 2.06.94-2.06 2.06-.94-2.06-.94-.94-2.06-.94 2.06-2.06.94zm-11 1L8.5 8.5l.94-2.06 2.06-.94-2.06-.94L8.5 2.5l-.94 2.06-2.06.94zm10 10l.94 2.06.94-2.06 2.06-.94-2.06-.94-.94-2.06-.94 2.06-2.06.94z\"/><path d=\"M17.41 7.96l-1.37-1.37c-.4-.4-.92-.59-1.43-.59-.52 0-1.04.2-1.43.59L10.3 9.45l-7.72 7.72c-.78.78-.78 2.05 0 2.83L4 21.41c.39.39.9.59 1.41.59.51 0 1.02-.2 1.41-.59l7.78-7.78 2.81-2.81c.8-.78.8-2.07 0-2.86zM5.41 20L4 18.59l7.72-7.72 1.47 1.35L5.41 20z\"/>\n",
              "  </svg>\n",
              "      </button>\n",
              "      \n",
              "  <style>\n",
              "    .colab-df-container {\n",
              "      display:flex;\n",
              "      flex-wrap:wrap;\n",
              "      gap: 12px;\n",
              "    }\n",
              "\n",
              "    .colab-df-convert {\n",
              "      background-color: #E8F0FE;\n",
              "      border: none;\n",
              "      border-radius: 50%;\n",
              "      cursor: pointer;\n",
              "      display: none;\n",
              "      fill: #1967D2;\n",
              "      height: 32px;\n",
              "      padding: 0 0 0 0;\n",
              "      width: 32px;\n",
              "    }\n",
              "\n",
              "    .colab-df-convert:hover {\n",
              "      background-color: #E2EBFA;\n",
              "      box-shadow: 0px 1px 2px rgba(60, 64, 67, 0.3), 0px 1px 3px 1px rgba(60, 64, 67, 0.15);\n",
              "      fill: #174EA6;\n",
              "    }\n",
              "\n",
              "    [theme=dark] .colab-df-convert {\n",
              "      background-color: #3B4455;\n",
              "      fill: #D2E3FC;\n",
              "    }\n",
              "\n",
              "    [theme=dark] .colab-df-convert:hover {\n",
              "      background-color: #434B5C;\n",
              "      box-shadow: 0px 1px 3px 1px rgba(0, 0, 0, 0.15);\n",
              "      filter: drop-shadow(0px 1px 2px rgba(0, 0, 0, 0.3));\n",
              "      fill: #FFFFFF;\n",
              "    }\n",
              "  </style>\n",
              "\n",
              "      <script>\n",
              "        const buttonEl =\n",
              "          document.querySelector('#df-e91c5401-9c7b-4092-89c6-7692656b7c71 button.colab-df-convert');\n",
              "        buttonEl.style.display =\n",
              "          google.colab.kernel.accessAllowed ? 'block' : 'none';\n",
              "\n",
              "        async function convertToInteractive(key) {\n",
              "          const element = document.querySelector('#df-e91c5401-9c7b-4092-89c6-7692656b7c71');\n",
              "          const dataTable =\n",
              "            await google.colab.kernel.invokeFunction('convertToInteractive',\n",
              "                                                     [key], {});\n",
              "          if (!dataTable) return;\n",
              "\n",
              "          const docLinkHtml = 'Like what you see? Visit the ' +\n",
              "            '<a target=\"_blank\" href=https://colab.research.google.com/notebooks/data_table.ipynb>data table notebook</a>'\n",
              "            + ' to learn more about interactive tables.';\n",
              "          element.innerHTML = '';\n",
              "          dataTable['output_type'] = 'display_data';\n",
              "          await google.colab.output.renderOutput(dataTable, element);\n",
              "          const docLink = document.createElement('div');\n",
              "          docLink.innerHTML = docLinkHtml;\n",
              "          element.appendChild(docLink);\n",
              "        }\n",
              "      </script>\n",
              "    </div>\n",
              "  </div>\n",
              "  "
            ]
          },
          "metadata": {},
          "execution_count": 16
        }
      ],
      "source": [
        "bigramFreqTable.head()"
      ]
    },
    {
      "cell_type": "code",
      "execution_count": null,
      "metadata": {
        "id": "eWBlU63Ykz0Y",
        "colab": {
          "base_uri": "https://localhost:8080/",
          "height": 183
        },
        "outputId": "14d2ab93-1a07-4eda-fa81-c55ebb7bc0e9"
      },
      "outputs": [
        {
          "output_type": "error",
          "ename": "NameError",
          "evalue": "ignored",
          "traceback": [
            "\u001b[0;31m---------------------------------------------------------------------------\u001b[0m",
            "\u001b[0;31mNameError\u001b[0m                                 Traceback (most recent call last)",
            "\u001b[0;32m<ipython-input-17-e730d430a2c9>\u001b[0m in \u001b[0;36m<cell line: 1>\u001b[0;34m()\u001b[0m\n\u001b[0;32m----> 1\u001b[0;31m \u001b[0mgood_bigram_table\u001b[0m \u001b[0;34m=\u001b[0m \u001b[0mpd\u001b[0m\u001b[0;34m.\u001b[0m\u001b[0mDataFrame\u001b[0m\u001b[0;34m(\u001b[0m\u001b[0mbigrams_annotated_list\u001b[0m\u001b[0;34m,\u001b[0m \u001b[0mcolumns\u001b[0m\u001b[0;34m=\u001b[0m\u001b[0;34m[\u001b[0m\u001b[0;34m'bigram'\u001b[0m\u001b[0;34m,\u001b[0m \u001b[0;34m'freq'\u001b[0m\u001b[0;34m,\u001b[0m \u001b[0;34m'pos1'\u001b[0m\u001b[0;34m,\u001b[0m \u001b[0;34m'pos2'\u001b[0m\u001b[0;34m]\u001b[0m\u001b[0;34m)\u001b[0m\u001b[0;34m\u001b[0m\u001b[0;34m\u001b[0m\u001b[0m\n\u001b[0m\u001b[1;32m      2\u001b[0m \u001b[0mgood_bigram_table\u001b[0m\u001b[0;34m.\u001b[0m\u001b[0mhead\u001b[0m\u001b[0;34m(\u001b[0m\u001b[0;34m)\u001b[0m\u001b[0;34m\u001b[0m\u001b[0;34m\u001b[0m\u001b[0m\n",
            "\u001b[0;31mNameError\u001b[0m: name 'bigrams_annotated_list' is not defined"
          ]
        }
      ],
      "source": [
        "good_bigram_table = pd.DataFrame(bigrams_annotated_list, columns=['bigram', 'freq', 'pos1', 'pos2'])\n",
        "good_bigram_table.head()"
      ]
    },
    {
      "cell_type": "code",
      "execution_count": null,
      "metadata": {
        "id": "rjI8FeMKkz0Y"
      },
      "outputs": [],
      "source": [
        "model1 = good_bigram_table[(good_bigram_table['pos1']=='ADJ') & (good_bigram_table['pos2']=='NOUN')]\n",
        "model2 = good_bigram_table[(good_bigram_table['pos1']=='VERB') & (good_bigram_table['pos2']=='NOUN')]\n",
        "model3 = good_bigram_table[(good_bigram_table['pos1']=='NOUN') & (good_bigram_table['pos2']=='NOUN')]"
      ]
    },
    {
      "cell_type": "code",
      "execution_count": null,
      "metadata": {
        "id": "n4TkJ03Lkz0Z"
      },
      "outputs": [],
      "source": [
        "# t-test\n",
        "bigramTtable = pd.DataFrame(list(bigramFinder.score_ngrams(bigrams.student_t)), columns=['bigram','T-test']).sort_values(by='T-test', ascending=False)\n",
        "\n",
        "bigrams_list = bigramTtable.values.tolist()\n",
        "bigrams_annotated_list_student_t = []\n",
        "for bigram in bigrams_list:\n",
        "    bare_bigram = bigram[0]\n",
        "    freq = bigram[1]\n",
        "    pos1 = bigram[0][0].split('_')[-1]\n",
        "    pos2 = bigram[0][1].split('_')[-1]\n",
        "    bigrams_annotated_list_student_t.append([bare_bigram, freq, pos1, pos2])\n",
        "good_bigram_table_student_t = pd.DataFrame(bigrams_annotated_list_student_t, columns=['bigram', 'T-test', 'pos1', 'pos2'])\n",
        "\n",
        "model1_student_t = good_bigram_table_student_t[(good_bigram_table_student_t['pos1']=='ADJ') & (good_bigram_table_student_t['pos2']=='NOUN')]\n",
        "model2_student_t = good_bigram_table_student_t[(good_bigram_table_student_t['pos1']=='VERB') & (good_bigram_table_student_t['pos2']=='NOUN')]\n",
        "model3_student_t = good_bigram_table_student_t[(good_bigram_table_student_t['pos1']=='NOUN') & (good_bigram_table_student_t['pos2']=='NOUN')]\n",
        "\n",
        "model1_student_t = model1_student_t.head(20)\n",
        "model2_student_t = model2_student_t.head(20)\n",
        "model3_student_t = model3_student_t.head(20)\n",
        "\n",
        "model1_student_t.to_csv('Bigrams-T-test-20_model1.csv',encoding='utf8', sep=';', index=False) #экспортируем в файл\n",
        "model2_student_t.to_csv('Bigrams-T-test-20_model2.csv',encoding='utf8', sep=';', index=False) #экспортируем в файл\n",
        "model3_student_t.to_csv('Bigrams-T-test-20_model3.csv',encoding='utf8', sep=';', index=False) #экспортируем в файл"
      ]
    },
    {
      "cell_type": "code",
      "execution_count": null,
      "metadata": {
        "id": "r63BZcPekz0Z"
      },
      "outputs": [],
      "source": []
    },
    {
      "cell_type": "code",
      "execution_count": null,
      "metadata": {
        "id": "h4aBQjWJkz0Z"
      },
      "outputs": [],
      "source": [
        "# chi-squared\n",
        "bigramCHItable = pd.DataFrame(list(bigramFinder.score_ngrams(bigrams.chi_sq)), columns=['bigram','Chi-squared']).sort_values(by='Chi-squared', ascending=False)\n",
        "\n",
        "bigrams_list = bigramCHItable.values.tolist()\n",
        "bigrams_annotated_list_CHI = []\n",
        "for bigram in bigrams_list:\n",
        "    bare_bigram = bigram[0]\n",
        "    freq = bigram[1]\n",
        "    pos1 = bigram[0][0].split('_')[-1]\n",
        "    pos2 = bigram[0][1].split('_')[-1]\n",
        "    bigrams_annotated_list_CHI.append([bare_bigram, freq, pos1, pos2])\n",
        "good_bigram_table_CHI = pd.DataFrame(bigrams_annotated_list_CHI, columns=['bigram', 'Chi-squared', 'pos1', 'pos2'])\n",
        "\n",
        "model1_CHI = good_bigram_table_CHI[(good_bigram_table_CHI['pos1']=='ADJ') & (good_bigram_table_CHI['pos2']=='NOUN')]\n",
        "model2_CHI = good_bigram_table_CHI[(good_bigram_table_CHI['pos1']=='VERB') & (good_bigram_table_CHI['pos2']=='NOUN')]\n",
        "model3_CHI = good_bigram_table_CHI[(good_bigram_table_CHI['pos1']=='NOUN') & (good_bigram_table_CHI['pos2']=='NOUN')]\n",
        "\n",
        "model1_CHI = model1_CHI.head(20)\n",
        "model2_CHI = model2_CHI.head(20)\n",
        "model3_CHI = model3_CHI.head(20)\n",
        "\n",
        "model1_CHI.to_csv('Bigrams-CHI-test-20_model1.csv',encoding='utf8', sep=';', index=False) #экспортируем в файл\n",
        "model2_CHI.to_csv('Bigrams-CHI-test-20_model2.csv',encoding='utf8', sep=';', index=False) #экспортируем в файл\n",
        "model3_CHI.to_csv('Bigrams-CHI-test-20_model3.csv',encoding='utf8', sep=';', index=False) #экспортируем в файл"
      ]
    },
    {
      "cell_type": "code",
      "execution_count": null,
      "metadata": {
        "id": "WXh9iiNrkz0Z"
      },
      "outputs": [],
      "source": [
        "# log-likelihood\n",
        "bigramlikelihoodtable = pd.DataFrame(list(bigramFinder.score_ngrams(bigrams.likelihood_ratio)), columns=['bigram','Log-Likelihood']).sort_values(by='Log-Likelihood', ascending=False)\n",
        "\n",
        "bigrams_list = bigramlikelihoodtable.values.tolist()\n",
        "bigrams_annotated_list_likelihood = []\n",
        "for bigram in bigrams_list:\n",
        "    bare_bigram = bigram[0]\n",
        "    freq = bigram[1]\n",
        "    pos1 = bigram[0][0].split('_')[-1]\n",
        "    pos2 = bigram[0][1].split('_')[-1]\n",
        "    bigrams_annotated_list_likelihood.append([bare_bigram, freq, pos1, pos2])\n",
        "good_bigram_table_likelihood = pd.DataFrame(bigrams_annotated_list_likelihood, columns=['bigram', 'Log-Likelihood', 'pos1', 'pos2'])\n",
        "\n",
        "model1_likelihood = good_bigram_table_likelihood[(good_bigram_table_likelihood['pos1']=='ADJ') & (good_bigram_table_likelihood['pos2']=='NOUN')]\n",
        "model2_likelihood = good_bigram_table_likelihood[(good_bigram_table_likelihood['pos1']=='VERB') & (good_bigram_table_likelihood['pos2']=='NOUN')]\n",
        "model3_likelihood = good_bigram_table_likelihood[(good_bigram_table_likelihood['pos1']=='NOUN') & (good_bigram_table_likelihood['pos2']=='NOUN')]\n",
        "\n",
        "model1_likelihood = model1_likelihood.head(20)\n",
        "model2_likelihood = model2_likelihood.head(20)\n",
        "model3_likelihood = model3_likelihood.head(20)\n",
        "\n",
        "model1_likelihood.to_csv('Bigrams-likelihood-test-20_model1.csv',encoding='utf8', sep=';', index=False) #экспортируем в файл\n",
        "model2_likelihood.to_csv('Bigrams-likelihood-test-20_model2.csv',encoding='utf8', sep=';', index=False) #экспортируем в файл\n",
        "model3_likelihood.to_csv('Bigrams-likelihood-test-20_model3.csv',encoding='utf8', sep=';', index=False) #экспортируем в файл"
      ]
    },
    {
      "cell_type": "code",
      "execution_count": null,
      "metadata": {
        "id": "fEjz4pi2kz0a"
      },
      "outputs": [],
      "source": [
        "# pmi\n",
        "bigramPMItable = pd.DataFrame(list(bigramFinder.score_ngrams(bigrams.pmi)), columns=['bigram','PMI']).sort_values(by='PMI', ascending=False)\n",
        "\n",
        "bigrams_list = bigramPMItable.values.tolist()\n",
        "bigrams_annotated_list_likelihood = []\n",
        "for bigram in bigrams_list:\n",
        "    bare_bigram = bigram[0]\n",
        "    freq = bigram[1]\n",
        "    pos1 = bigram[0][0].split('_')[-1]\n",
        "    pos2 = bigram[0][1].split('_')[-1]\n",
        "    bigrams_annotated_list_likelihood.append([bare_bigram, freq, pos1, pos2])\n",
        "good_bigram_table_likelihood = pd.DataFrame(bigrams_annotated_list_likelihood, columns=['bigram', 'PMI', 'pos1', 'pos2'])\n",
        "\n",
        "model1_likelihood = good_bigram_table_likelihood[(good_bigram_table_likelihood['pos1']=='ADJ') & (good_bigram_table_likelihood['pos2']=='NOUN')]\n",
        "model2_likelihood = good_bigram_table_likelihood[(good_bigram_table_likelihood['pos1']=='VERB') & (good_bigram_table_likelihood['pos2']=='NOUN')]\n",
        "model3_likelihood = good_bigram_table_likelihood[(good_bigram_table_likelihood['pos1']=='NOUN') & (good_bigram_table_likelihood['pos2']=='NOUN')]\n",
        "\n",
        "model1_likelihood = model1_likelihood.head(20)\n",
        "model2_likelihood = model2_likelihood.head(20)\n",
        "model3_likelihood = model3_likelihood.head(20)\n",
        "\n",
        "model1_likelihood.to_csv('Bigrams-PMI-test-20_model1.csv',encoding='utf8', sep=';', index=False) #экспортируем в файл\n",
        "model2_likelihood.to_csv('Bigrams-PMI-test-20_model2.csv',encoding='utf8', sep=';', index=False) #экспортируем в файл\n",
        "model3_likelihood.to_csv('Bigrams-PMI-test-20_model3.csv',encoding='utf8', sep=';', index=False) #экспортируем в файл"
      ]
    },
    {
      "cell_type": "code",
      "execution_count": null,
      "metadata": {
        "id": "v_-wHE2Qkz0a"
      },
      "outputs": [],
      "source": [
        "from math import log2"
      ]
    },
    {
      "cell_type": "code",
      "execution_count": null,
      "metadata": {
        "id": "pIKypVnnkz0a"
      },
      "outputs": [],
      "source": [
        "def log_dice(n_ii, n_ix, n_xi):\n",
        "    return 14 + log2(2 * n_ii / (n_ix * n_xi))"
      ]
    },
    {
      "cell_type": "code",
      "execution_count": null,
      "metadata": {
        "id": "RbXIWrfckz0b"
      },
      "outputs": [],
      "source": [
        "bigramFinder.ngram_fd"
      ]
    },
    {
      "cell_type": "code",
      "execution_count": null,
      "metadata": {
        "id": "oCeBKi2ckz0b"
      },
      "outputs": [],
      "source": [
        "LOG_DICE_TABLE = []\n",
        "for collocation, collocation_freq in bigramFinder.ngram_fd.items():\n",
        "    first_token = collocation[0]\n",
        "    second_token = collocation[1]\n",
        "    first_token_freq = bigramFinder.word_fd[first_token]\n",
        "    second_token_freq = bigramFinder.word_fd[second_token]\n",
        "    log_dice_score = log_dice(collocation_freq, first_token_freq, second_token_freq)\n",
        "    LOG_DICE_TABLE.append([collocation, log_dice_score])"
      ]
    },
    {
      "cell_type": "code",
      "execution_count": null,
      "metadata": {
        "id": "wsoObGFRkz0b"
      },
      "outputs": [],
      "source": [
        "log_dice_df = pd.DataFrame(LOG_DICE_TABLE, columns=['bigram', 'LogDice'])\n",
        "log_dice_df.sort_values(by='LogDice', inplace=True, ascending=False)"
      ]
    },
    {
      "cell_type": "code",
      "execution_count": null,
      "metadata": {
        "id": "LejLVrnckz0b"
      },
      "outputs": [],
      "source": [
        "bigrams_list = log_dice_df.values.tolist()\n",
        "bigrams_annotated_list_likelihood = []\n",
        "for bigram in bigrams_list:\n",
        "    bare_bigram = bigram[0]\n",
        "    freq = bigram[1]\n",
        "    pos1 = bigram[0][0].split('_')[-1]\n",
        "    pos2 = bigram[0][1].split('_')[-1]\n",
        "    bigrams_annotated_list_likelihood.append([bare_bigram, freq, pos1, pos2])\n",
        "good_bigram_table_likelihood = pd.DataFrame(bigrams_annotated_list_likelihood, columns=['bigram', 'LogDice', 'pos1', 'pos2'])\n",
        "\n",
        "model1_likelihood = good_bigram_table_likelihood[(good_bigram_table_likelihood['pos1']=='ADJ') & (good_bigram_table_likelihood['pos2']=='NOUN')]\n",
        "model2_likelihood = good_bigram_table_likelihood[(good_bigram_table_likelihood['pos1']=='VERB') & (good_bigram_table_likelihood['pos2']=='NOUN')]\n",
        "model3_likelihood = good_bigram_table_likelihood[(good_bigram_table_likelihood['pos1']=='NOUN') & (good_bigram_table_likelihood['pos2']=='NOUN')]\n",
        "\n",
        "model1_likelihood = model1_likelihood.head(20)\n",
        "model2_likelihood = model2_likelihood.head(20)\n",
        "model3_likelihood = model3_likelihood.head(20)\n",
        "\n",
        "model1_likelihood.to_csv('Bigrams-LogDice-test-20_model1.csv',encoding='utf8', sep=';', index=False) #экспортируем в файл\n",
        "model2_likelihood.to_csv('Bigrams-LogDice-test-20_model2.csv',encoding='utf8', sep=';', index=False) #экспортируем в файл\n",
        "model3_likelihood.to_csv('Bigrams-LogDice-test-20_model3.csv',encoding='utf8', sep=';', index=False) #экспортируем в файл"
      ]
    },
    {
      "cell_type": "code",
      "execution_count": null,
      "metadata": {
        "id": "_TMDFVoUkz0b"
      },
      "outputs": [],
      "source": []
    }
  ],
  "metadata": {
    "colab": {
      "provenance": []
    },
    "kernelspec": {
      "display_name": "Python 3 (ipykernel)",
      "language": "python",
      "name": "python3"
    },
    "language_info": {
      "codemirror_mode": {
        "name": "ipython",
        "version": 3
      },
      "file_extension": ".py",
      "mimetype": "text/x-python",
      "name": "python",
      "nbconvert_exporter": "python",
      "pygments_lexer": "ipython3",
      "version": "3.10.9"
    },
    "widgets": {
      "application/vnd.jupyter.widget-state+json": {
        "715e8ed8f39046f686fa9c53d8fba53a": {
          "model_module": "@jupyter-widgets/controls",
          "model_name": "HBoxModel",
          "model_module_version": "1.5.0",
          "state": {
            "_dom_classes": [],
            "_model_module": "@jupyter-widgets/controls",
            "_model_module_version": "1.5.0",
            "_model_name": "HBoxModel",
            "_view_count": null,
            "_view_module": "@jupyter-widgets/controls",
            "_view_module_version": "1.5.0",
            "_view_name": "HBoxView",
            "box_style": "",
            "children": [
              "IPY_MODEL_6d261c3e14ea4a1a96f02eda98873d73",
              "IPY_MODEL_04cadd574d974104af7f56c5c14f12c4",
              "IPY_MODEL_bd861caa6c5f4553a7b29dd6fc789f1c"
            ],
            "layout": "IPY_MODEL_41051dc4222f43b5bb6b583025f021e9"
          }
        },
        "6d261c3e14ea4a1a96f02eda98873d73": {
          "model_module": "@jupyter-widgets/controls",
          "model_name": "HTMLModel",
          "model_module_version": "1.5.0",
          "state": {
            "_dom_classes": [],
            "_model_module": "@jupyter-widgets/controls",
            "_model_module_version": "1.5.0",
            "_model_name": "HTMLModel",
            "_view_count": null,
            "_view_module": "@jupyter-widgets/controls",
            "_view_module_version": "1.5.0",
            "_view_name": "HTMLView",
            "description": "",
            "description_tooltip": null,
            "layout": "IPY_MODEL_14d4d5b036b848f0bbab7c764f8e51f1",
            "placeholder": "​",
            "style": "IPY_MODEL_a6b87d064b2148e1a2cac8b5f99e1cdf",
            "value": "100%"
          }
        },
        "04cadd574d974104af7f56c5c14f12c4": {
          "model_module": "@jupyter-widgets/controls",
          "model_name": "FloatProgressModel",
          "model_module_version": "1.5.0",
          "state": {
            "_dom_classes": [],
            "_model_module": "@jupyter-widgets/controls",
            "_model_module_version": "1.5.0",
            "_model_name": "FloatProgressModel",
            "_view_count": null,
            "_view_module": "@jupyter-widgets/controls",
            "_view_module_version": "1.5.0",
            "_view_name": "ProgressView",
            "bar_style": "success",
            "description": "",
            "description_tooltip": null,
            "layout": "IPY_MODEL_59b2c821f784444f8a70d774316e4085",
            "max": 149427,
            "min": 0,
            "orientation": "horizontal",
            "style": "IPY_MODEL_bad4c3e2d93e4a83a3466e6e17f59855",
            "value": 149427
          }
        },
        "bd861caa6c5f4553a7b29dd6fc789f1c": {
          "model_module": "@jupyter-widgets/controls",
          "model_name": "HTMLModel",
          "model_module_version": "1.5.0",
          "state": {
            "_dom_classes": [],
            "_model_module": "@jupyter-widgets/controls",
            "_model_module_version": "1.5.0",
            "_model_name": "HTMLModel",
            "_view_count": null,
            "_view_module": "@jupyter-widgets/controls",
            "_view_module_version": "1.5.0",
            "_view_name": "HTMLView",
            "description": "",
            "description_tooltip": null,
            "layout": "IPY_MODEL_57ad10ccf160413b97584b6f3e9c3b1f",
            "placeholder": "​",
            "style": "IPY_MODEL_de1d334136104251895361dcfa84d898",
            "value": " 149427/149427 [20:27&lt;00:00, 131.10it/s]"
          }
        },
        "41051dc4222f43b5bb6b583025f021e9": {
          "model_module": "@jupyter-widgets/base",
          "model_name": "LayoutModel",
          "model_module_version": "1.2.0",
          "state": {
            "_model_module": "@jupyter-widgets/base",
            "_model_module_version": "1.2.0",
            "_model_name": "LayoutModel",
            "_view_count": null,
            "_view_module": "@jupyter-widgets/base",
            "_view_module_version": "1.2.0",
            "_view_name": "LayoutView",
            "align_content": null,
            "align_items": null,
            "align_self": null,
            "border": null,
            "bottom": null,
            "display": null,
            "flex": null,
            "flex_flow": null,
            "grid_area": null,
            "grid_auto_columns": null,
            "grid_auto_flow": null,
            "grid_auto_rows": null,
            "grid_column": null,
            "grid_gap": null,
            "grid_row": null,
            "grid_template_areas": null,
            "grid_template_columns": null,
            "grid_template_rows": null,
            "height": null,
            "justify_content": null,
            "justify_items": null,
            "left": null,
            "margin": null,
            "max_height": null,
            "max_width": null,
            "min_height": null,
            "min_width": null,
            "object_fit": null,
            "object_position": null,
            "order": null,
            "overflow": null,
            "overflow_x": null,
            "overflow_y": null,
            "padding": null,
            "right": null,
            "top": null,
            "visibility": null,
            "width": null
          }
        },
        "14d4d5b036b848f0bbab7c764f8e51f1": {
          "model_module": "@jupyter-widgets/base",
          "model_name": "LayoutModel",
          "model_module_version": "1.2.0",
          "state": {
            "_model_module": "@jupyter-widgets/base",
            "_model_module_version": "1.2.0",
            "_model_name": "LayoutModel",
            "_view_count": null,
            "_view_module": "@jupyter-widgets/base",
            "_view_module_version": "1.2.0",
            "_view_name": "LayoutView",
            "align_content": null,
            "align_items": null,
            "align_self": null,
            "border": null,
            "bottom": null,
            "display": null,
            "flex": null,
            "flex_flow": null,
            "grid_area": null,
            "grid_auto_columns": null,
            "grid_auto_flow": null,
            "grid_auto_rows": null,
            "grid_column": null,
            "grid_gap": null,
            "grid_row": null,
            "grid_template_areas": null,
            "grid_template_columns": null,
            "grid_template_rows": null,
            "height": null,
            "justify_content": null,
            "justify_items": null,
            "left": null,
            "margin": null,
            "max_height": null,
            "max_width": null,
            "min_height": null,
            "min_width": null,
            "object_fit": null,
            "object_position": null,
            "order": null,
            "overflow": null,
            "overflow_x": null,
            "overflow_y": null,
            "padding": null,
            "right": null,
            "top": null,
            "visibility": null,
            "width": null
          }
        },
        "a6b87d064b2148e1a2cac8b5f99e1cdf": {
          "model_module": "@jupyter-widgets/controls",
          "model_name": "DescriptionStyleModel",
          "model_module_version": "1.5.0",
          "state": {
            "_model_module": "@jupyter-widgets/controls",
            "_model_module_version": "1.5.0",
            "_model_name": "DescriptionStyleModel",
            "_view_count": null,
            "_view_module": "@jupyter-widgets/base",
            "_view_module_version": "1.2.0",
            "_view_name": "StyleView",
            "description_width": ""
          }
        },
        "59b2c821f784444f8a70d774316e4085": {
          "model_module": "@jupyter-widgets/base",
          "model_name": "LayoutModel",
          "model_module_version": "1.2.0",
          "state": {
            "_model_module": "@jupyter-widgets/base",
            "_model_module_version": "1.2.0",
            "_model_name": "LayoutModel",
            "_view_count": null,
            "_view_module": "@jupyter-widgets/base",
            "_view_module_version": "1.2.0",
            "_view_name": "LayoutView",
            "align_content": null,
            "align_items": null,
            "align_self": null,
            "border": null,
            "bottom": null,
            "display": null,
            "flex": null,
            "flex_flow": null,
            "grid_area": null,
            "grid_auto_columns": null,
            "grid_auto_flow": null,
            "grid_auto_rows": null,
            "grid_column": null,
            "grid_gap": null,
            "grid_row": null,
            "grid_template_areas": null,
            "grid_template_columns": null,
            "grid_template_rows": null,
            "height": null,
            "justify_content": null,
            "justify_items": null,
            "left": null,
            "margin": null,
            "max_height": null,
            "max_width": null,
            "min_height": null,
            "min_width": null,
            "object_fit": null,
            "object_position": null,
            "order": null,
            "overflow": null,
            "overflow_x": null,
            "overflow_y": null,
            "padding": null,
            "right": null,
            "top": null,
            "visibility": null,
            "width": null
          }
        },
        "bad4c3e2d93e4a83a3466e6e17f59855": {
          "model_module": "@jupyter-widgets/controls",
          "model_name": "ProgressStyleModel",
          "model_module_version": "1.5.0",
          "state": {
            "_model_module": "@jupyter-widgets/controls",
            "_model_module_version": "1.5.0",
            "_model_name": "ProgressStyleModel",
            "_view_count": null,
            "_view_module": "@jupyter-widgets/base",
            "_view_module_version": "1.2.0",
            "_view_name": "StyleView",
            "bar_color": null,
            "description_width": ""
          }
        },
        "57ad10ccf160413b97584b6f3e9c3b1f": {
          "model_module": "@jupyter-widgets/base",
          "model_name": "LayoutModel",
          "model_module_version": "1.2.0",
          "state": {
            "_model_module": "@jupyter-widgets/base",
            "_model_module_version": "1.2.0",
            "_model_name": "LayoutModel",
            "_view_count": null,
            "_view_module": "@jupyter-widgets/base",
            "_view_module_version": "1.2.0",
            "_view_name": "LayoutView",
            "align_content": null,
            "align_items": null,
            "align_self": null,
            "border": null,
            "bottom": null,
            "display": null,
            "flex": null,
            "flex_flow": null,
            "grid_area": null,
            "grid_auto_columns": null,
            "grid_auto_flow": null,
            "grid_auto_rows": null,
            "grid_column": null,
            "grid_gap": null,
            "grid_row": null,
            "grid_template_areas": null,
            "grid_template_columns": null,
            "grid_template_rows": null,
            "height": null,
            "justify_content": null,
            "justify_items": null,
            "left": null,
            "margin": null,
            "max_height": null,
            "max_width": null,
            "min_height": null,
            "min_width": null,
            "object_fit": null,
            "object_position": null,
            "order": null,
            "overflow": null,
            "overflow_x": null,
            "overflow_y": null,
            "padding": null,
            "right": null,
            "top": null,
            "visibility": null,
            "width": null
          }
        },
        "de1d334136104251895361dcfa84d898": {
          "model_module": "@jupyter-widgets/controls",
          "model_name": "DescriptionStyleModel",
          "model_module_version": "1.5.0",
          "state": {
            "_model_module": "@jupyter-widgets/controls",
            "_model_module_version": "1.5.0",
            "_model_name": "DescriptionStyleModel",
            "_view_count": null,
            "_view_module": "@jupyter-widgets/base",
            "_view_module_version": "1.2.0",
            "_view_name": "StyleView",
            "description_width": ""
          }
        }
      }
    }
  },
  "nbformat": 4,
  "nbformat_minor": 0
}