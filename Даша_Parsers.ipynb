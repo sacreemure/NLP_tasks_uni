{
  "cells": [
    {
      "cell_type": "code",
      "execution_count": null,
      "metadata": {
        "id": "iSq-XLolaJRP"
      },
      "outputs": [],
      "source": [
        "import pickle\n",
        "import subprocess\n",
        "import sys\n",
        "from nltk import Nonterminal, nonterminals, Production, CFG"
      ]
    },
    {
      "cell_type": "code",
      "execution_count": null,
      "metadata": {
        "id": "sh3fiEezaJRT"
      },
      "outputs": [],
      "source": [
        "nt1 = Nonterminal('NP')\n",
        "nt2 = Nonterminal('VP')"
      ]
    },
    {
      "cell_type": "code",
      "execution_count": null,
      "metadata": {
        "colab": {
          "base_uri": "https://localhost:8080/",
          "height": 36
        },
        "id": "Id-FPWBVaJRU",
        "outputId": "eab82858-c477-4885-c9f2-78eb1995f792"
      },
      "outputs": [
        {
          "output_type": "execute_result",
          "data": {
            "text/plain": [
              "'NP'"
            ],
            "application/vnd.google.colaboratory.intrinsic+json": {
              "type": "string"
            }
          },
          "metadata": {},
          "execution_count": 3
        }
      ],
      "source": [
        "nt1.symbol()"
      ]
    },
    {
      "cell_type": "code",
      "execution_count": null,
      "metadata": {
        "colab": {
          "base_uri": "https://localhost:8080/"
        },
        "id": "apZfIYKjaJRV",
        "outputId": "106ddd42-1e0e-46ab-eea6-2e951e1510da"
      },
      "outputs": [
        {
          "output_type": "execute_result",
          "data": {
            "text/plain": [
              "True"
            ]
          },
          "metadata": {},
          "execution_count": 4
        }
      ],
      "source": [
        "nt1 == Nonterminal('NP')"
      ]
    },
    {
      "cell_type": "code",
      "execution_count": null,
      "metadata": {
        "colab": {
          "base_uri": "https://localhost:8080/"
        },
        "id": "0NC0ISSoaJRV",
        "outputId": "ee611f54-9a10-48bf-d302-5c4face8f4f7"
      },
      "outputs": [
        {
          "output_type": "execute_result",
          "data": {
            "text/plain": [
              "False"
            ]
          },
          "metadata": {},
          "execution_count": 5
        }
      ],
      "source": [
        "nt1 == nt2"
      ]
    },
    {
      "cell_type": "code",
      "execution_count": null,
      "metadata": {
        "id": "ny1GNneQaJRV"
      },
      "outputs": [],
      "source": [
        "S, NP, VP, PP = nonterminals('S, NP, VP, PP')\n",
        "N, V, P, DT = nonterminals('N, V, P, DT')"
      ]
    },
    {
      "cell_type": "code",
      "execution_count": null,
      "metadata": {
        "id": "zEnQPvqKaJRW"
      },
      "outputs": [],
      "source": [
        "prod1 = Production(S, [NP, VP])\n",
        "prod2 = Production(NP, [DT, NP])"
      ]
    },
    {
      "cell_type": "code",
      "execution_count": null,
      "metadata": {
        "colab": {
          "base_uri": "https://localhost:8080/"
        },
        "id": "gGBg56b6aJRW",
        "outputId": "ae3ee514-f548-4493-c946-2c79d7f8d2d8"
      },
      "outputs": [
        {
          "output_type": "execute_result",
          "data": {
            "text/plain": [
              "S"
            ]
          },
          "metadata": {},
          "execution_count": 8
        }
      ],
      "source": [
        "prod1.lhs()"
      ]
    },
    {
      "cell_type": "code",
      "execution_count": null,
      "metadata": {
        "colab": {
          "base_uri": "https://localhost:8080/"
        },
        "id": "LbLdADaHaJRW",
        "outputId": "605065cc-0bda-4897-f290-a80896cfda54"
      },
      "outputs": [
        {
          "output_type": "execute_result",
          "data": {
            "text/plain": [
              "(NP, VP)"
            ]
          },
          "metadata": {},
          "execution_count": 9
        }
      ],
      "source": [
        "prod1.rhs()"
      ]
    },
    {
      "cell_type": "code",
      "execution_count": null,
      "metadata": {
        "colab": {
          "base_uri": "https://localhost:8080/"
        },
        "id": "23mrEbxQaJRX",
        "outputId": "d70cdc9b-d781-444d-ce14-303203371ca5"
      },
      "outputs": [
        {
          "output_type": "execute_result",
          "data": {
            "text/plain": [
              "True"
            ]
          },
          "metadata": {},
          "execution_count": 10
        }
      ],
      "source": [
        "prod1 == Production(S, [NP, VP])"
      ]
    },
    {
      "cell_type": "code",
      "execution_count": null,
      "metadata": {
        "colab": {
          "base_uri": "https://localhost:8080/"
        },
        "id": "-wDpvKi7aJRX",
        "outputId": "608527d9-6ff3-4682-9db0-454de5da0ccc"
      },
      "outputs": [
        {
          "output_type": "execute_result",
          "data": {
            "text/plain": [
              "False"
            ]
          },
          "metadata": {},
          "execution_count": 11
        }
      ],
      "source": [
        "prod1 == prod2"
      ]
    },
    {
      "cell_type": "code",
      "execution_count": null,
      "metadata": {
        "id": "XMPIzKzKaJRX"
      },
      "outputs": [],
      "source": [
        "grammar = CFG.fromstring(\"\"\"\n",
        "... S -> NP VP\n",
        "... PP -> P NP\n",
        "... NP ->  N | N PP\n",
        "... VP -> V NP | V PP | V NP PP\n",
        "... N -> 'кот'\n",
        "... N -> 'собаку'\n",
        "... N -> 'ковру'\n",
        "... V -> 'гонялся'\n",
        "... P -> 'по'\n",
        "... P -> 'за'\n",
        "... \"\"\")"
      ]
    },
    {
      "cell_type": "code",
      "execution_count": null,
      "metadata": {
        "id": "n5qrfynmaJRY"
      },
      "outputs": [],
      "source": [
        "cmd = \"\"\"import pickle\n",
        "... from nltk import Production\n",
        "... p = Production('S', ['NP', 'VP'])\n",
        "... print(pickle.dumps(p))\n",
        "... \"\"\""
      ]
    },
    {
      "cell_type": "code",
      "execution_count": null,
      "metadata": {
        "colab": {
          "base_uri": "https://localhost:8080/"
        },
        "id": "G6na1O9AaJRY",
        "outputId": "373ba3bb-f2c8-490e-ee3e-2fc904148cc0"
      },
      "outputs": [
        {
          "output_type": "stream",
          "name": "stdout",
          "text": [
            "True\n"
          ]
        }
      ],
      "source": [
        "# Start a subprocess to simulate pickling in another process\n",
        "proc = subprocess.run([sys.executable, '-c', cmd], stdout=subprocess.PIPE)\n",
        "p1 = pickle.loads(eval(proc.stdout))\n",
        "p2 = Production('S', ['NP', 'VP'])\n",
        "print(hash(p1) == hash(p2))"
      ]
    },
    {
      "cell_type": "code",
      "execution_count": null,
      "metadata": {
        "id": "1pFH6E1AaJRY"
      },
      "outputs": [],
      "source": [
        "from nltk.parse import RecursiveDescentParser\n",
        "rd = RecursiveDescentParser(grammar)"
      ]
    },
    {
      "cell_type": "code",
      "source": [
        "sent1 = 'кот гонялся за собакой'.split()\n",
        "sent2 = 'кот гонялся за собакой по ковру'.split()"
      ],
      "metadata": {
        "id": "8ooR7t8hQiFt"
      },
      "execution_count": null,
      "outputs": []
    },
    {
      "cell_type": "code",
      "execution_count": null,
      "metadata": {
        "colab": {
          "base_uri": "https://localhost:8080/"
        },
        "id": "uVUbhAFqaJRZ",
        "outputId": "f96b9691-e04a-4de5-903d-dd6a04fa4126"
      },
      "outputs": [
        {
          "output_type": "stream",
          "name": "stdout",
          "text": [
            "(S (NP (N кот)) (VP (V гонялся) (PP (P за) (NP (N собакой)))))\n"
          ]
        }
      ],
      "source": [
        "for t in rd.parse(sent1):\n",
        "     print(t)"
      ]
    },
    {
      "cell_type": "code",
      "execution_count": null,
      "metadata": {
        "colab": {
          "base_uri": "https://localhost:8080/"
        },
        "id": "xOgPzh0XaJRZ",
        "outputId": "49a2ae41-f4f3-4333-d952-2934ad04f7a1"
      },
      "outputs": [
        {
          "output_type": "stream",
          "name": "stdout",
          "text": [
            "(S\n",
            "  (NP (N кот))\n",
            "  (VP\n",
            "    (V гонялся)\n",
            "    (PP (P за) (NP (N собакой) (PP (P по) (NP (N ковру)))))))\n"
          ]
        }
      ],
      "source": [
        "for t in rd.parse(sent2):\n",
        "     print(t)"
      ]
    },
    {
      "cell_type": "code",
      "execution_count": null,
      "metadata": {
        "id": "L4D3SlBfaJRa"
      },
      "outputs": [],
      "source": [
        "from nltk.parse import ShiftReduceParser\n",
        "sr = ShiftReduceParser(grammar)"
      ]
    },
    {
      "cell_type": "code",
      "execution_count": null,
      "metadata": {
        "id": "CF-uSahyaJRa"
      },
      "outputs": [],
      "source": [
        "sentence1 = 'кот гонялся за собакой'.split()\n",
        "sentence2 = 'кот гонялся за собакой по ковру'.split()"
      ]
    },
    {
      "cell_type": "code",
      "execution_count": null,
      "metadata": {
        "colab": {
          "base_uri": "https://localhost:8080/"
        },
        "id": "5DLKBuBbaJRa",
        "outputId": "888b0f25-482a-409e-c22b-d5797130cf29"
      },
      "outputs": [
        {
          "output_type": "stream",
          "name": "stdout",
          "text": [
            "(S (NP (N кот)) (VP (V гонялся) (PP (P за) (NP (N собакой)))))\n"
          ]
        }
      ],
      "source": [
        "for t in sr.parse(sentence1):\n",
        "     print(t)"
      ]
    },
    {
      "cell_type": "code",
      "execution_count": null,
      "metadata": {
        "id": "q3VSmXjEaJRa"
      },
      "outputs": [],
      "source": [
        "for t in sr.parse(sentence2):\n",
        "     print(t)"
      ]
    },
    {
      "cell_type": "code",
      "execution_count": null,
      "metadata": {
        "id": "VxhwJ2oXaJRb"
      },
      "outputs": [],
      "source": [
        "import nltk"
      ]
    },
    {
      "cell_type": "code",
      "execution_count": null,
      "metadata": {
        "id": "O9N70j64aJRb"
      },
      "outputs": [],
      "source": [
        "nltk.parse.chart.demo(2, print_times=False, trace=1,\n",
        "                       sent='Я увидел собаку', numparses=1)"
      ]
    },
    {
      "cell_type": "code",
      "execution_count": null,
      "metadata": {
        "id": "vXMYg3PfaJRb"
      },
      "outputs": [],
      "source": [
        "nltk.parse.chart.demo(1, print_times=False, trace=0,\n",
        "                       sent='Я увидел собаку', numparses=2)"
      ]
    },
    {
      "cell_type": "code",
      "execution_count": null,
      "metadata": {
        "id": "g6KfC1r3aJRb"
      },
      "outputs": [],
      "source": [
        "nltk.parse.chart.demo(2, print_times=False, trace=0,\n",
        "                       sent='Я увидел собаку', numparses=2)"
      ]
    },
    {
      "cell_type": "code",
      "execution_count": null,
      "metadata": {
        "id": "koFvSC4baJRb"
      },
      "outputs": [],
      "source": [
        "nltk.parse.chart.demo(3, print_times=False, trace=0,\n",
        "                      sent='Я увидел собаку', numparses=2)"
      ]
    },
    {
      "cell_type": "code",
      "execution_count": null,
      "metadata": {
        "id": "sYMpyOhLaJRb"
      },
      "outputs": [],
      "source": [
        "nltk.parse.chart.demo(4, print_times=False, trace=0,\n",
        "                       sent='Я увидел собаку', numparses=2)"
      ]
    },
    {
      "cell_type": "code",
      "execution_count": null,
      "metadata": {
        "id": "Z-nB-iGaaJRb"
      },
      "outputs": [],
      "source": [
        "nltk.parse.chart.demo(5, print_times=False, trace=1,\n",
        "                       sent='Я увидел собаку', numparses=2)"
      ]
    },
    {
      "cell_type": "code",
      "execution_count": null,
      "metadata": {
        "id": "BEUGs6WlaJRc"
      },
      "outputs": [],
      "source": [
        "nltk.parse.earleychart.demo(print_times=False, trace=1,\n",
        "                             sent='Я увидел собаку', numparses=2)"
      ]
    },
    {
      "cell_type": "code",
      "execution_count": null,
      "metadata": {
        "id": "xdBuWd47aJRc"
      },
      "outputs": [],
      "source": [
        "from nltk.corpus import treebank\n",
        "nltk.download('treebank')\n",
        "from itertools import islice\n",
        "from nltk.grammar import PCFG, induce_pcfg\n",
        "toy_pcfg1 = PCFG.fromstring(\"\"\"\n",
        "     S -> NP VP [1.0]\n",
        "     NP -> Det N [0.5] | NP PP [0.25] | 'John' [0.1] | 'I' [0.15]\n",
        "     Det -> 'the' [0.8] | 'my' [0.2]\n",
        "     N -> 'man' [0.5] | 'telescope' [0.5]\n",
        "     VP -> VP PP [0.1] | V NP [0.7] | V [0.2]\n",
        "     V -> 'ate' [0.35] | 'saw' [0.65]\n",
        "     PP -> P NP [1.0]\n",
        "     P -> 'with' [0.61] | 'under' [0.39]\n",
        "    \"\"\")"
      ]
    },
    {
      "cell_type": "code",
      "execution_count": null,
      "metadata": {
        "id": "EL8ymev7aJRc"
      },
      "outputs": [],
      "source": [
        "toy_pcfg2 = PCFG.fromstring(\"\"\"\n",
        "     S    -> NP VP         [1.0]\n",
        "     VP   -> V NP          [.59]\n",
        "     VP   -> V             [.40]\n",
        "     VP   -> VP PP         [.01]\n",
        "     NP   -> Det N         [.41]\n",
        "     NP   -> Name          [.28]\n",
        "     NP   -> NP PP         [.31]\n",
        "     PP   -> P NP          [1.0]\n",
        "     V    -> 'saw'         [.21]\n",
        "     V    -> 'ate'         [.51]\n",
        "     V    -> 'ran'         [.28]\n",
        "     N    -> 'boy'         [.11]\n",
        "     N    -> 'cookie'      [.12]\n",
        "     N    -> 'table'       [.13]\n",
        "     N    -> 'telescope'   [.14]\n",
        "     N    -> 'hill'        [.5]\n",
        "     Name -> 'Jack'        [.52]\n",
        "     Name -> 'Bob'         [.48]\n",
        "     P    -> 'with'        [.61]\n",
        "     P    -> 'under'       [.39]\n",
        "     Det  -> 'the'         [.41]\n",
        "     Det  -> 'a'           [.31]\n",
        "     Det  -> 'my'          [.28]\n",
        "     \"\"\")"
      ]
    },
    {
      "cell_type": "code",
      "execution_count": null,
      "metadata": {
        "colab": {
          "base_uri": "https://localhost:8080/"
        },
        "id": "OKRoEfq8aJRc",
        "outputId": "d78ab90c-df8f-461e-e0ec-28719310124f"
      },
      "outputs": [
        {
          "output_type": "execute_result",
          "data": {
            "text/plain": [
              "A -> B B [0.3]"
            ]
          },
          "metadata": {},
          "execution_count": 69
        }
      ],
      "source": [
        "grammar = PCFG.fromstring(\"\"\"\n",
        "... A -> B B [.3] | C B C [.7]\n",
        "... B -> B D [.5] | C [.5]\n",
        "... C -> 'a' [.1] | 'b' [0.9]\n",
        "... D -> 'b' [1.0]\n",
        "... \"\"\")\n",
        "prod = grammar.productions()[0]\n",
        "prod"
      ]
    },
    {
      "cell_type": "code",
      "execution_count": null,
      "metadata": {
        "colab": {
          "base_uri": "https://localhost:8080/"
        },
        "id": "Tr1eRzkdaJRc",
        "outputId": "8e13eade-5e9f-4cee-a379-1156f8eca2d3"
      },
      "outputs": [
        {
          "output_type": "execute_result",
          "data": {
            "text/plain": [
              "A"
            ]
          },
          "metadata": {},
          "execution_count": 70
        }
      ],
      "source": [
        "prod.lhs()"
      ]
    },
    {
      "cell_type": "code",
      "execution_count": null,
      "metadata": {
        "colab": {
          "base_uri": "https://localhost:8080/"
        },
        "id": "fpsI7q3eaJRc",
        "outputId": "5ca39f26-b587-4c11-b9d9-4d47a4eafc0b"
      },
      "outputs": [
        {
          "output_type": "execute_result",
          "data": {
            "text/plain": [
              "(B, B)"
            ]
          },
          "metadata": {},
          "execution_count": 71
        }
      ],
      "source": [
        "prod.rhs()"
      ]
    },
    {
      "cell_type": "code",
      "execution_count": null,
      "metadata": {
        "colab": {
          "base_uri": "https://localhost:8080/"
        },
        "id": "Y68GeKVjaJRc",
        "outputId": "23511721-bb11-4fbc-be4a-d7cc0c6ccc62"
      },
      "outputs": [
        {
          "output_type": "stream",
          "name": "stdout",
          "text": [
            "0.3\n"
          ]
        }
      ],
      "source": [
        "print((prod.prob()))"
      ]
    },
    {
      "cell_type": "code",
      "execution_count": null,
      "metadata": {
        "colab": {
          "base_uri": "https://localhost:8080/"
        },
        "id": "aquRq0RNaJRd",
        "outputId": "bb103f11-80dd-49e1-a7a9-9c8eae0cfa1f"
      },
      "outputs": [
        {
          "output_type": "execute_result",
          "data": {
            "text/plain": [
              "A"
            ]
          },
          "metadata": {},
          "execution_count": 73
        }
      ],
      "source": [
        "grammar.start()"
      ]
    },
    {
      "cell_type": "code",
      "execution_count": null,
      "metadata": {
        "colab": {
          "base_uri": "https://localhost:8080/"
        },
        "id": "pHZHwDfyaJRd",
        "outputId": "bdd2bd31-05a7-4feb-9bf3-ddba2959b5e0"
      },
      "outputs": [
        {
          "output_type": "execute_result",
          "data": {
            "text/plain": [
              "[A -> B B [0.3],\n",
              " A -> C B C [0.7],\n",
              " B -> B D [0.5],\n",
              " B -> C [0.5],\n",
              " C -> 'a' [0.1],\n",
              " C -> 'b' [0.9],\n",
              " D -> 'b' [1.0]]"
            ]
          },
          "metadata": {},
          "execution_count": 74
        }
      ],
      "source": [
        "grammar.productions()"
      ]
    },
    {
      "cell_type": "code",
      "execution_count": null,
      "metadata": {
        "id": "UnxKpqgMaJRd"
      },
      "outputs": [],
      "source": [
        "productions = []\n",
        "for fileid in treebank.fileids()[:2]:\n",
        "     for t in treebank.parsed_sents(fileid):\n",
        "         productions += t.productions()"
      ]
    },
    {
      "cell_type": "code",
      "execution_count": null,
      "metadata": {
        "colab": {
          "base_uri": "https://localhost:8080/"
        },
        "id": "ysnLJLKJaJRd",
        "outputId": "5f4c62f8-798d-4e22-ad45-44d2d21b0917"
      },
      "outputs": [
        {
          "output_type": "execute_result",
          "data": {
            "text/plain": [
              "<Grammar with 71 productions>"
            ]
          },
          "metadata": {},
          "execution_count": 76
        }
      ],
      "source": [
        "grammar = induce_pcfg(S, productions)\n",
        "grammar"
      ]
    },
    {
      "cell_type": "code",
      "execution_count": null,
      "metadata": {
        "colab": {
          "base_uri": "https://localhost:8080/"
        },
        "id": "-P5dtWEUaJRd",
        "outputId": "85f10036-2b98-4b1d-eed9-3ff6a7339bd2"
      },
      "outputs": [
        {
          "output_type": "execute_result",
          "data": {
            "text/plain": [
              "[PP -> IN NP [1.0]]"
            ]
          },
          "metadata": {},
          "execution_count": 77
        }
      ],
      "source": [
        "sorted(grammar.productions(lhs=Nonterminal('PP')))[:2]"
      ]
    },
    {
      "cell_type": "code",
      "execution_count": null,
      "metadata": {
        "colab": {
          "base_uri": "https://localhost:8080/"
        },
        "id": "O3FEQhFMaJRd",
        "outputId": "42856750-f6e1-4458-e8b4-b19e3fd29d37"
      },
      "outputs": [
        {
          "output_type": "execute_result",
          "data": {
            "text/plain": [
              "[NNP -> 'Agnew' [0.0714286], NNP -> 'Consolidated' [0.0714286]]"
            ]
          },
          "metadata": {},
          "execution_count": 78
        }
      ],
      "source": [
        "sorted(grammar.productions(lhs=Nonterminal('NNP')))[:2]"
      ]
    },
    {
      "cell_type": "code",
      "execution_count": null,
      "metadata": {
        "colab": {
          "base_uri": "https://localhost:8080/"
        },
        "id": "fNXhNXFsaJRd",
        "outputId": "e8d84e0a-ae0b-42ba-cf62-16c4471fae88"
      },
      "outputs": [
        {
          "output_type": "execute_result",
          "data": {
            "text/plain": [
              "[JJ -> 'British' [0.142857], JJ -> 'former' [0.142857]]"
            ]
          },
          "metadata": {},
          "execution_count": 79
        }
      ],
      "source": [
        "sorted(grammar.productions(lhs=Nonterminal('JJ')))[:2]"
      ]
    },
    {
      "cell_type": "code",
      "execution_count": null,
      "metadata": {
        "colab": {
          "base_uri": "https://localhost:8080/"
        },
        "id": "mcTzDwL2aJRd",
        "outputId": "6683052a-60d0-4ca4-e7db-c2fa9546860e"
      },
      "outputs": [
        {
          "output_type": "execute_result",
          "data": {
            "text/plain": [
              "[NP -> CD NNS [0.133333], NP -> DT JJ JJ NN [0.0666667]]"
            ]
          },
          "metadata": {},
          "execution_count": 80
        }
      ],
      "source": [
        "sorted(grammar.productions(lhs=Nonterminal('NP')))[:2]"
      ]
    },
    {
      "cell_type": "code",
      "execution_count": null,
      "metadata": {
        "colab": {
          "base_uri": "https://localhost:8080/"
        },
        "id": "KVTBopH-aJRd",
        "outputId": "3f69aff6-06a8-460e-bdec-357a9febb541"
      },
      "outputs": [
        {
          "output_type": "stream",
          "name": "stdout",
          "text": [
            "Grammar with 23 productions (start state = S)\n",
            "    S -> NP VP [1.0]\n",
            "    VP -> V NP [0.59]\n",
            "    VP -> V [0.4]\n",
            "    VP -> VP PP [0.01]\n",
            "    NP -> Det N [0.41]\n",
            "    NP -> Name [0.28]\n",
            "    NP -> NP PP [0.31]\n",
            "    PP -> P NP [1.0]\n",
            "    V -> 'saw' [0.21]\n",
            "    V -> 'ate' [0.51]\n",
            "    V -> 'ran' [0.28]\n",
            "    N -> 'boy' [0.11]\n",
            "    N -> 'cookie' [0.12]\n",
            "    N -> 'table' [0.13]\n",
            "    N -> 'telescope' [0.14]\n",
            "    N -> 'hill' [0.5]\n",
            "    Name -> 'Jack' [0.52]\n",
            "    Name -> 'Bob' [0.48]\n",
            "    P -> 'with' [0.61]\n",
            "    P -> 'under' [0.39]\n",
            "    Det -> 'the' [0.41]\n",
            "    Det -> 'a' [0.31]\n",
            "    Det -> 'my' [0.28]\n"
          ]
        }
      ],
      "source": [
        "tokens = \"Jack saw Bob with my cookie\".split()\n",
        "grammar = toy_pcfg2\n",
        "print(grammar)"
      ]
    },
    {
      "cell_type": "code",
      "execution_count": null,
      "metadata": {
        "id": "8FPx4hFwaJRe"
      },
      "outputs": [],
      "source": [
        "from nltk.parse import pchart"
      ]
    },
    {
      "cell_type": "code",
      "execution_count": null,
      "metadata": {
        "colab": {
          "base_uri": "https://localhost:8080/"
        },
        "id": "HrdWpfSQaJRe",
        "outputId": "a81af3c4-d0a4-4905-946c-29f28ca69606"
      },
      "outputs": [
        {
          "output_type": "stream",
          "name": "stdout",
          "text": [
            "(S\n",
            "  (NP (Name Jack))\n",
            "  (VP\n",
            "    (V saw)\n",
            "    (NP\n",
            "      (NP (Name Bob))\n",
            "      (PP (P with) (NP (Det my) (N cookie)))))) (p=6.31607e-06)\n",
            "(S\n",
            "  (NP (Name Jack))\n",
            "  (VP\n",
            "    (VP (V saw) (NP (Name Bob)))\n",
            "    (PP (P with) (NP (Det my) (N cookie))))) (p=2.03744e-07)\n"
          ]
        }
      ],
      "source": [
        "parser = pchart.InsideChartParser(grammar)\n",
        "for t in parser.parse(tokens):\n",
        "    print(t)"
      ]
    },
    {
      "cell_type": "code",
      "execution_count": null,
      "metadata": {
        "colab": {
          "base_uri": "https://localhost:8080/"
        },
        "id": "iRnoCn13aJRe",
        "outputId": "8ff64221-48df-4c52-f73a-d66383278b06"
      },
      "outputs": [
        {
          "output_type": "stream",
          "name": "stdout",
          "text": [
            "(S\n",
            "  (NP (Name Jack))\n",
            "  (VP\n",
            "    (V saw)\n",
            "    (NP\n",
            "      (NP (Name Bob))\n",
            "      (PP (P with) (NP (Det my) (N cookie)))))) (p=6.31607e-06)\n",
            "(S\n",
            "  (NP (Name Jack))\n",
            "  (VP\n",
            "    (VP (V saw) (NP (Name Bob)))\n",
            "    (PP (P with) (NP (Det my) (N cookie))))) (p=2.03744e-07)\n"
          ]
        }
      ],
      "source": [
        "parser = pchart.RandomChartParser(grammar)\n",
        "for t in parser.parse(tokens):\n",
        "     print(t)"
      ]
    },
    {
      "cell_type": "code",
      "execution_count": null,
      "metadata": {
        "colab": {
          "base_uri": "https://localhost:8080/"
        },
        "id": "Fqq4-hyHaJRe",
        "outputId": "b93bc14e-c37f-4e0a-e148-60beffd7e328"
      },
      "outputs": [
        {
          "output_type": "stream",
          "name": "stdout",
          "text": [
            "(S\n",
            "  (NP (Name Jack))\n",
            "  (VP\n",
            "    (V saw)\n",
            "    (NP\n",
            "      (NP (Name Bob))\n",
            "      (PP (P with) (NP (Det my) (N cookie)))))) (p=6.31607e-06)\n",
            "(S\n",
            "  (NP (Name Jack))\n",
            "  (VP\n",
            "    (VP (V saw) (NP (Name Bob)))\n",
            "    (PP (P with) (NP (Det my) (N cookie))))) (p=2.03744e-07)\n"
          ]
        }
      ],
      "source": [
        "parser = pchart.UnsortedChartParser(grammar)\n",
        "for t in parser.parse(tokens):\n",
        "     print(t)"
      ]
    },
    {
      "cell_type": "code",
      "execution_count": null,
      "metadata": {
        "colab": {
          "base_uri": "https://localhost:8080/"
        },
        "id": "y7ZEaCRbaJRe",
        "outputId": "fba0ffb5-ec0b-42e2-cc1a-18e7314d1df9"
      },
      "outputs": [
        {
          "output_type": "stream",
          "name": "stdout",
          "text": [
            "(S\n",
            "  (NP (Name Jack))\n",
            "  (VP\n",
            "    (V saw)\n",
            "    (NP\n",
            "      (NP (Name Bob))\n",
            "      (PP (P with) (NP (Det my) (N cookie)))))) (p=6.31607e-06)\n",
            "(S\n",
            "  (NP (Name Jack))\n",
            "  (VP\n",
            "    (VP (V saw) (NP (Name Bob)))\n",
            "    (PP (P with) (NP (Det my) (N cookie))))) (p=2.03744e-07)\n"
          ]
        }
      ],
      "source": [
        "parser = pchart.LongestChartParser(grammar)\n",
        "for t in parser.parse(tokens):\n",
        "     print(t)"
      ]
    },
    {
      "cell_type": "code",
      "execution_count": null,
      "metadata": {
        "id": "LSjrKqvqaJRe"
      },
      "outputs": [],
      "source": [
        "parser = pchart.InsideChartParser(grammar, beam_size = len(tokens)+1)\n",
        "for t in parser.parse(tokens):\n",
        "     print(t)"
      ]
    },
    {
      "cell_type": "code",
      "execution_count": null,
      "metadata": {
        "id": "aHM0cElcaJRe"
      },
      "outputs": [],
      "source": [
        "from nltk.parse import ViterbiParser\n",
        "tokens = \"Jack saw Bob with my cookie\".split()\n",
        "grammar = toy_pcfg2"
      ]
    },
    {
      "cell_type": "code",
      "execution_count": null,
      "metadata": {
        "colab": {
          "base_uri": "https://localhost:8080/"
        },
        "id": "IwuND7FoaJRe",
        "outputId": "5abce65c-ec9c-4978-8315-8083d648da7c"
      },
      "outputs": [
        {
          "output_type": "stream",
          "name": "stdout",
          "text": [
            "(S\n",
            "  (NP (Name Jack))\n",
            "  (VP\n",
            "    (V saw)\n",
            "    (NP\n",
            "      (NP (Name Bob))\n",
            "      (PP (P with) (NP (Det my) (N cookie)))))) (p=6.31607e-06)\n"
          ]
        }
      ],
      "source": [
        "parser = ViterbiParser(grammar)\n",
        "for t in parser.parse(tokens):\n",
        "     print(t)"
      ]
    },
    {
      "cell_type": "code",
      "execution_count": null,
      "metadata": {
        "colab": {
          "base_uri": "https://localhost:8080/"
        },
        "id": "rf64-LwPaJRe",
        "outputId": "04e4c1e2-42b2-4f0e-da36-e57126c48afa"
      },
      "outputs": [
        {
          "output_type": "execute_result",
          "data": {
            "text/plain": [
              "[agr=[gender='f', number='pl'], pos='n']"
            ]
          },
          "metadata": {},
          "execution_count": 90
        }
      ],
      "source": [
        "from nltk.grammar import FeatStructNonterminal\n",
        "FeatStructNonterminal(\n",
        "    pos='n', agr=FeatStructNonterminal(number='pl', gender='f'))"
      ]
    },
    {
      "cell_type": "code",
      "execution_count": null,
      "metadata": {
        "colab": {
          "base_uri": "https://localhost:8080/"
        },
        "id": "5aIP9-4ZaJRe",
        "outputId": "854ef3b4-8d0d-4627-921d-768bc49d288e"
      },
      "outputs": [
        {
          "output_type": "execute_result",
          "data": {
            "text/plain": [
              "VP[+fin]/NP[+pl]"
            ]
          },
          "metadata": {},
          "execution_count": 91
        }
      ],
      "source": [
        "FeatStructNonterminal('VP[+fin]/NP[+pl]')"
      ]
    },
    {
      "cell_type": "code",
      "execution_count": null,
      "metadata": {
        "colab": {
          "base_uri": "https://localhost:8080/"
        },
        "id": "jo6eLCXhaJRe",
        "outputId": "a6ce04f1-116b-44b0-9665-4dd7c2c158d2"
      },
      "outputs": [
        {
          "output_type": "stream",
          "name": "stdout",
          "text": [
            "\n",
            "Grammar with 18 productions (start state = S[])\n",
            "    S[] -> NP[] VP[]\n",
            "    PP[] -> Prep[] NP[]\n",
            "    NP[] -> NP[] PP[]\n",
            "    VP[] -> VP[] PP[]\n",
            "    VP[] -> Verb[] NP[]\n",
            "    VP[] -> Verb[]\n",
            "    NP[] -> Det[pl=?x] Noun[pl=?x]\n",
            "    NP[] -> 'John'\n",
            "    NP[] -> 'I'\n",
            "    Det[] -> 'the'\n",
            "    Det[] -> 'my'\n",
            "    Det[-pl] -> 'a'\n",
            "    Noun[-pl] -> 'dog'\n",
            "    Noun[-pl] -> 'cookie'\n",
            "    Verb[] -> 'ate'\n",
            "    Verb[] -> 'saw'\n",
            "    Prep[] -> 'with'\n",
            "    Prep[] -> 'under'\n",
            "\n",
            "* FeatureChartParser\n",
            "Sentence: I saw John with a dog\n",
            "|.I.s.J.w.a.d.|\n",
            "|[-] . . . . .| [0:1] 'I'\n",
            "|. [-] . . . .| [1:2] 'saw'\n",
            "|. . [-] . . .| [2:3] 'John'\n",
            "|. . . [-] . .| [3:4] 'with'\n",
            "|. . . . [-] .| [4:5] 'a'\n",
            "|. . . . . [-]| [5:6] 'dog'\n",
            "|[-] . . . . .| [0:1] NP[] -> 'I' *\n",
            "|[-> . . . . .| [0:1] S[] -> NP[] * VP[] {}\n",
            "|[-> . . . . .| [0:1] NP[] -> NP[] * PP[] {}\n",
            "|. [-] . . . .| [1:2] Verb[] -> 'saw' *\n",
            "|. [-> . . . .| [1:2] VP[] -> Verb[] * NP[] {}\n",
            "|. [-] . . . .| [1:2] VP[] -> Verb[] *\n",
            "|. [-> . . . .| [1:2] VP[] -> VP[] * PP[] {}\n",
            "|[---] . . . .| [0:2] S[] -> NP[] VP[] *\n",
            "|. . [-] . . .| [2:3] NP[] -> 'John' *\n",
            "|. . [-> . . .| [2:3] S[] -> NP[] * VP[] {}\n",
            "|. . [-> . . .| [2:3] NP[] -> NP[] * PP[] {}\n",
            "|. [---] . . .| [1:3] VP[] -> Verb[] NP[] *\n",
            "|. [---> . . .| [1:3] VP[] -> VP[] * PP[] {}\n",
            "|[-----] . . .| [0:3] S[] -> NP[] VP[] *\n",
            "|. . . [-] . .| [3:4] Prep[] -> 'with' *\n",
            "|. . . [-> . .| [3:4] PP[] -> Prep[] * NP[] {}\n",
            "|. . . . [-] .| [4:5] Det[-pl] -> 'a' *\n",
            "|. . . . [-> .| [4:5] NP[] -> Det[pl=?x] * Noun[pl=?x] {?x: False}\n",
            "|. . . . . [-]| [5:6] Noun[-pl] -> 'dog' *\n",
            "|. . . . [---]| [4:6] NP[] -> Det[-pl] Noun[-pl] *\n",
            "|. . . . [--->| [4:6] S[] -> NP[] * VP[] {}\n",
            "|. . . . [--->| [4:6] NP[] -> NP[] * PP[] {}\n",
            "|. . . [-----]| [3:6] PP[] -> Prep[] NP[] *\n",
            "|. . [-------]| [2:6] NP[] -> NP[] PP[] *\n",
            "|. [---------]| [1:6] VP[] -> VP[] PP[] *\n",
            "|. [--------->| [1:6] VP[] -> VP[] * PP[] {}\n",
            "|[===========]| [0:6] S[] -> NP[] VP[] *\n",
            "|. . [------->| [2:6] S[] -> NP[] * VP[] {}\n",
            "|. . [------->| [2:6] NP[] -> NP[] * PP[] {}\n",
            "|. [---------]| [1:6] VP[] -> Verb[] NP[] *\n",
            "|. [--------->| [1:6] VP[] -> VP[] * PP[] {}\n",
            "|[===========]| [0:6] S[] -> NP[] VP[] *\n",
            "(S[]\n",
            "  (NP[] I)\n",
            "  (VP[]\n",
            "    (VP[] (Verb[] saw) (NP[] John))\n",
            "    (PP[] (Prep[] with) (NP[] (Det[-pl] a) (Noun[-pl] dog)))))\n",
            "(S[]\n",
            "  (NP[] I)\n",
            "  (VP[]\n",
            "    (Verb[] saw)\n",
            "    (NP[]\n",
            "      (NP[] John)\n",
            "      (PP[] (Prep[] with) (NP[] (Det[-pl] a) (Noun[-pl] dog))))))\n"
          ]
        }
      ],
      "source": [
        "nltk.parse.featurechart.demo(print_times=False,\n",
        "                              print_grammar=True,\n",
        "                              parser=nltk.parse.featurechart.FeatureChartParser,\n",
        "                              sent='I saw John with a dog')"
      ]
    }
  ],
  "metadata": {
    "kernelspec": {
      "display_name": "Python 3",
      "language": "python",
      "name": "python3"
    },
    "language_info": {
      "codemirror_mode": {
        "name": "ipython",
        "version": 3
      },
      "file_extension": ".py",
      "mimetype": "text/x-python",
      "name": "python",
      "nbconvert_exporter": "python",
      "pygments_lexer": "ipython3",
      "version": "3.8.5"
    },
    "colab": {
      "provenance": []
    }
  },
  "nbformat": 4,
  "nbformat_minor": 0
}