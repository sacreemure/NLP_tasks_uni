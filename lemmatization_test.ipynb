{
  "nbformat": 4,
  "nbformat_minor": 0,
  "metadata": {
    "colab": {
      "provenance": []
    },
    "kernelspec": {
      "name": "python3",
      "display_name": "Python 3"
    },
    "language_info": {
      "name": "python"
    }
  },
  "cells": [
    {
      "cell_type": "code",
      "source": [
        "text = 'васкулит в нашем клиническом наблюдении был выявлен случайно — при проведении кт с контрастированием для поиска причины развития кровохарканья.'"
      ],
      "metadata": {
        "id": "x_aaPiJW3uW-"
      },
      "execution_count": null,
      "outputs": []
    },
    {
      "cell_type": "code",
      "execution_count": null,
      "metadata": {
        "id": "3AcFg2XKz6co"
      },
      "outputs": [],
      "source": [
        "!pip install natasha"
      ]
    },
    {
      "cell_type": "markdown",
      "source": [
        "\n",
        "\n",
        "---\n",
        "\n"
      ],
      "metadata": {
        "id": "Fsoj5umD1FJp"
      }
    },
    {
      "cell_type": "code",
      "source": [
        "!pip install nltk"
      ],
      "metadata": {
        "id": "FYyD33Z_0e8m"
      },
      "execution_count": null,
      "outputs": []
    },
    {
      "cell_type": "code",
      "source": [
        "import nltk\n",
        "nltk.download('punkt')"
      ],
      "metadata": {
        "id": "9eDlX-he0kzb"
      },
      "execution_count": null,
      "outputs": []
    },
    {
      "cell_type": "code",
      "source": [
        "# from nltk.tokenize import word_tokenize\n",
        "# tokenize = word_tokenize(text)\n",
        "# print(tokenize)\n",
        "\n",
        "from nltk.tokenize import sent_tokenize\n",
        "sent = sent_tokenize(text, language=\"russian\")\n",
        "print(sent)"
      ],
      "metadata": {
        "colab": {
          "base_uri": "https://localhost:8080/"
        },
        "id": "sYHLoNgJ0oDo",
        "outputId": "4ff56c95-1cde-4206-f62e-984d2ac64a25"
      },
      "execution_count": null,
      "outputs": [
        {
          "output_type": "stream",
          "name": "stdout",
          "text": [
            "['васкулит в нашем клиническом наблюдении был выявлен случайно — при проведении кт с контрастированием для поиска причины развития кровохарканья.']\n"
          ]
        }
      ]
    },
    {
      "cell_type": "markdown",
      "source": [
        "\n",
        "\n",
        "---\n",
        "\n"
      ],
      "metadata": {
        "id": "eDpM4tis1DT5"
      }
    },
    {
      "cell_type": "code",
      "source": [
        "!pip install pymorphy2\n",
        "!pip install -U pymorphy2-dicts-ru"
      ],
      "metadata": {
        "id": "HTFfd1Sr0zTr"
      },
      "execution_count": null,
      "outputs": []
    },
    {
      "cell_type": "code",
      "source": [
        "import pymorphy2\n",
        "morph = pymorphy2.MorphAnalyzer()"
      ],
      "metadata": {
        "id": "T4CugrV-1h9r"
      },
      "execution_count": null,
      "outputs": []
    },
    {
      "cell_type": "code",
      "source": [
        "def lemmatize(text):\n",
        "    words = text.split() # разбиваем текст на слова\n",
        "    res = list()\n",
        "    for word in words:\n",
        "        p = morph.parse(word)[0]\n",
        "        res.append(p.normal_form)\n",
        "\n",
        "    return res\n",
        "\n",
        "print(lemmatize(text))"
      ],
      "metadata": {
        "colab": {
          "base_uri": "https://localhost:8080/"
        },
        "id": "8dDn8F7F1x_R",
        "outputId": "2c3604d5-187c-4ed1-9f8f-4239c31cb7eb"
      },
      "execution_count": null,
      "outputs": [
        {
          "output_type": "stream",
          "name": "stdout",
          "text": [
            "['васкулит', 'в', 'наш', 'клинический', 'наблюдение', 'быть', 'выявить', 'случайно', '—', 'при', 'проведение', 'кт', 'с', 'контрастирование', 'для', 'поиск', 'причина', 'развитие', 'кровохарканья.']\n"
          ]
        }
      ]
    },
    {
      "cell_type": "markdown",
      "source": [
        "\n",
        "\n",
        "---\n",
        "\n"
      ],
      "metadata": {
        "id": "a56XTyxi1Aey"
      }
    },
    {
      "cell_type": "code",
      "source": [
        "!pip install stanza"
      ],
      "metadata": {
        "id": "lXlepneF0-J3"
      },
      "execution_count": null,
      "outputs": []
    },
    {
      "cell_type": "code",
      "source": [
        "import stanza\n",
        "stanza.download('ru')\n",
        "nlp = stanza.Pipeline('ru')"
      ],
      "metadata": {
        "id": "pCJYwG9I0_Xf"
      },
      "execution_count": null,
      "outputs": []
    },
    {
      "cell_type": "code",
      "source": [
        "list4 = []\n",
        "\n",
        "doc = nlp(text)\n",
        "print(*[f'lemma: {word.lemma}' for sent in doc.sentences for word in sent.words], sep='\\n')\n",
        "\n",
        "for sentence in doc.sentences:\n",
        "  for word in sentence.words:\n",
        "    list4.append((word.lemma))\n",
        "\n",
        "print(list4)"
      ],
      "metadata": {
        "colab": {
          "base_uri": "https://localhost:8080/"
        },
        "id": "ftPviqNR1Iqt",
        "outputId": "cac81ed8-0cec-44ad-8fcc-cc3e30559b01"
      },
      "execution_count": null,
      "outputs": [
        {
          "output_type": "stream",
          "name": "stdout",
          "text": [
            "lemma: васкулит\n",
            "lemma: в\n",
            "lemma: наш\n",
            "lemma: клинический\n",
            "lemma: наблюдение\n",
            "lemma: быть\n",
            "lemma: выявить\n",
            "lemma: случайно\n",
            "lemma: —\n",
            "lemma: при\n",
            "lemma: проведение\n",
            "lemma: ктака\n",
            "lemma: с\n",
            "lemma: контрастирование\n",
            "lemma: для\n",
            "lemma: поиск\n",
            "lemma: причина\n",
            "lemma: развитие\n",
            "lemma: кровохарканье\n",
            "lemma: .\n",
            "['васкулит', 'в', 'наш', 'клинический', 'наблюдение', 'быть', 'выявить', 'случайно', '—', 'при', 'проведение', 'ктака', 'с', 'контрастирование', 'для', 'поиск', 'причина', 'развитие', 'кровохарканье', '.']\n"
          ]
        }
      ]
    },
    {
      "cell_type": "markdown",
      "source": [
        "\n",
        "\n",
        "---\n",
        "\n"
      ],
      "metadata": {
        "id": "i_6aeBoE1MnM"
      }
    },
    {
      "cell_type": "code",
      "source": [
        "import spacy"
      ],
      "metadata": {
        "id": "a4oMslx72VIv"
      },
      "execution_count": null,
      "outputs": []
    },
    {
      "cell_type": "code",
      "source": [
        "!spacy download ru_core_news_lg"
      ],
      "metadata": {
        "id": "PP4fBPtv3MUb"
      },
      "execution_count": null,
      "outputs": []
    },
    {
      "cell_type": "code",
      "source": [
        "nlp = spacy.load(\"ru_core_news_lg\")\n",
        "lemmatizer = nlp.get_pipe(\"lemmatizer\")\n",
        "print(lemmatizer.mode)  # 'rule'\n",
        "\n"
      ],
      "metadata": {
        "colab": {
          "base_uri": "https://localhost:8080/"
        },
        "id": "jFose1u32_Ql",
        "outputId": "130a6154-0e63-42d6-b9a0-042e15a66b6e"
      },
      "execution_count": null,
      "outputs": [
        {
          "output_type": "stream",
          "name": "stdout",
          "text": [
            "pymorphy3\n"
          ]
        }
      ]
    },
    {
      "cell_type": "code",
      "source": [
        "doc = nlp(text)\n",
        "print([token.lemma_ for token in doc])\n"
      ],
      "metadata": {
        "colab": {
          "base_uri": "https://localhost:8080/"
        },
        "id": "9691haZw3UIF",
        "outputId": "e9c99736-d0e8-4936-bf59-a36a59ce099b"
      },
      "execution_count": null,
      "outputs": [
        {
          "output_type": "stream",
          "name": "stdout",
          "text": [
            "['васкулит', 'в', 'наш', 'клинический', 'наблюдение', 'быть', 'выявить', 'случайно', '—', 'при', 'проведение', 'кт', 'с', 'контрастированием', 'для', 'поиск', 'причина', 'развитие', 'кровохаркание', '.']\n"
          ]
        }
      ]
    }
  ]
}